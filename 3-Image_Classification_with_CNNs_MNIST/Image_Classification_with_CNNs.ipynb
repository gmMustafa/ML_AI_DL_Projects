{
  "nbformat": 4,
  "nbformat_minor": 0,
  "metadata": {
    "colab": {
      "provenance": []
    },
    "kernelspec": {
      "name": "python3",
      "display_name": "Python 3"
    },
    "language_info": {
      "name": "python"
    }
  },
  "cells": [
    {
      "cell_type": "code",
      "execution_count": null,
      "metadata": {
        "id": "50UsfwOSjnWh"
      },
      "outputs": [],
      "source": [
        "import tensorflow as tf\n",
        "from tensorflow.keras.datasets import mnist\n",
        "from tensorflow.keras.utils import to_categorical"
      ]
    },
    {
      "cell_type": "code",
      "source": [
        "# Load the MNIST dataset\n",
        "(X_train, y_train), (X_test, y_test) = mnist.load_data()"
      ],
      "metadata": {
        "colab": {
          "base_uri": "https://localhost:8080/"
        },
        "id": "vwIFsA7SkBSa",
        "outputId": "156bbb45-f4aa-4af5-fa8c-0e4239815ac7"
      },
      "execution_count": null,
      "outputs": [
        {
          "output_type": "stream",
          "name": "stdout",
          "text": [
            "Downloading data from https://storage.googleapis.com/tensorflow/tf-keras-datasets/mnist.npz\n",
            "11490434/11490434 [==============================] - 1s 0us/step\n"
          ]
        }
      ]
    },
    {
      "cell_type": "code",
      "source": [
        "# Normalize the images\n",
        "X_train = X_train.astype('float32') / 255\n",
        "X_test = X_test.astype('float32') / 255"
      ],
      "metadata": {
        "id": "7GP44UB6kDfa"
      },
      "execution_count": null,
      "outputs": []
    },
    {
      "cell_type": "code",
      "source": [
        "# Reshape the images to include the channel dimension\n",
        "X_train = X_train.reshape((X_train.shape[0], 28, 28, 1))\n",
        "X_test = X_test.reshape((X_test.shape[0], 28, 28, 1))"
      ],
      "metadata": {
        "id": "gOz1A81wkGy7"
      },
      "execution_count": null,
      "outputs": []
    },
    {
      "cell_type": "code",
      "source": [
        "# Convert labels to one-hot encoding\n",
        "y_train = to_categorical(y_train, 10)\n",
        "y_test = to_categorical(y_test, 10)"
      ],
      "metadata": {
        "id": "-FAWsK3BkIiG"
      },
      "execution_count": null,
      "outputs": []
    },
    {
      "cell_type": "code",
      "source": [
        "#Build a Convolutional Neural Network (CNN):  Use Keras to define the CNN architecture.\n",
        "\n",
        "from tensorflow.keras.models import Sequential\n",
        "from tensorflow.keras.layers import Conv2D, MaxPooling2D, Flatten, Dense, Dropout\n",
        "\n",
        "# Build the CNN model\n",
        "model = Sequential([\n",
        "    Conv2D(32, kernel_size=(3, 3), activation='relu', input_shape=(28, 28, 1)),\n",
        "    MaxPooling2D(pool_size=(2, 2)),\n",
        "    Conv2D(64, kernel_size=(3, 3), activation='relu'),\n",
        "    MaxPooling2D(pool_size=(2, 2)),\n",
        "    Flatten(),\n",
        "    Dense(128, activation='relu'),\n",
        "    Dropout(0.5),\n",
        "    Dense(10, activation='softmax')\n",
        "])"
      ],
      "metadata": {
        "id": "-56-DfYgkKKY"
      },
      "execution_count": null,
      "outputs": []
    },
    {
      "cell_type": "code",
      "source": [
        "# Compile the model\n",
        "model.compile(optimizer='adam', loss='categorical_crossentropy', metrics=['accuracy'])"
      ],
      "metadata": {
        "id": "ygnSrFTIkS7D"
      },
      "execution_count": null,
      "outputs": []
    },
    {
      "cell_type": "code",
      "source": [
        "# Display the model architecture\n",
        "model.summary()"
      ],
      "metadata": {
        "colab": {
          "base_uri": "https://localhost:8080/"
        },
        "id": "CFuKyN2xkZFo",
        "outputId": "f54aa8c1-5643-4cff-af32-089e1936cb57"
      },
      "execution_count": null,
      "outputs": [
        {
          "output_type": "stream",
          "name": "stdout",
          "text": [
            "Model: \"sequential\"\n",
            "_________________________________________________________________\n",
            " Layer (type)                Output Shape              Param #   \n",
            "=================================================================\n",
            " conv2d (Conv2D)             (None, 26, 26, 32)        320       \n",
            "                                                                 \n",
            " max_pooling2d (MaxPooling2  (None, 13, 13, 32)        0         \n",
            " D)                                                              \n",
            "                                                                 \n",
            " conv2d_1 (Conv2D)           (None, 11, 11, 64)        18496     \n",
            "                                                                 \n",
            " max_pooling2d_1 (MaxPoolin  (None, 5, 5, 64)          0         \n",
            " g2D)                                                            \n",
            "                                                                 \n",
            " flatten (Flatten)           (None, 1600)              0         \n",
            "                                                                 \n",
            " dense (Dense)               (None, 128)               204928    \n",
            "                                                                 \n",
            " dropout (Dropout)           (None, 128)               0         \n",
            "                                                                 \n",
            " dense_1 (Dense)             (None, 10)                1290      \n",
            "                                                                 \n",
            "=================================================================\n",
            "Total params: 225034 (879.04 KB)\n",
            "Trainable params: 225034 (879.04 KB)\n",
            "Non-trainable params: 0 (0.00 Byte)\n",
            "_________________________________________________________________\n"
          ]
        }
      ]
    },
    {
      "cell_type": "markdown",
      "source": [
        "### Model Architecture\n",
        "\n",
        "The model is built using the Sequential API from Keras. It consists of several layers, each performing a specific function in the network.\n",
        "\n",
        "\n",
        "### Layer-by-Layer Explanation\n",
        "\n",
        "1. **Conv2D(32, kernel_size=(3, 3), activation='relu', input_shape=(28, 28, 1))**\n",
        "   - **Conv2D**: This is a 2D convolutional layer.\n",
        "   - **32**: The number of filters (or kernels) in the convolutional layer. Each filter will learn to identify different features in the input image.\n",
        "   - **kernel_size=(3, 3)**: The size of the convolutional filter (3x3 pixels). This means that the filter will slide over the input image, capturing local patterns of size 3x3.\n",
        "   - **activation='relu'**: The activation function applied to the output of this layer. ReLU (Rectified Linear Unit) introduces non-linearity to the model, allowing it to learn more complex patterns.\n",
        "   - **input_shape=(28, 28, 1)**: The shape of the input data. In this case, the input images are 28x28 pixels with 1 channel (grayscale).\n",
        "\n",
        "2. **MaxPooling2D(pool_size=(2, 2))**\n",
        "   - **MaxPooling2D**: This is a max-pooling layer.\n",
        "   - **pool_size=(2, 2)**: The size of the pooling window (2x2 pixels). Max-pooling reduces the spatial dimensions (width and height) of the input by taking the maximum value in each 2x2 window, effectively downsampling the input.\n",
        "\n",
        "3. **Conv2D(64, kernel_size=(3, 3), activation='relu')**\n",
        "   - **Conv2D**: Another 2D convolutional layer, similar to the first one.\n",
        "   - **64**: The number of filters in this convolutional layer.\n",
        "   - **kernel_size=(3, 3)**: The size of the convolutional filter.\n",
        "   - **activation='relu'**: The activation function applied to this layer.\n",
        "\n",
        "4. **MaxPooling2D(pool_size=(2, 2))**\n",
        "   - Another max-pooling layer, similar to the previous one.\n",
        "\n",
        "5. **Flatten()**\n",
        "   - **Flatten**: This layer flattens the 2D matrix output from the previous layer into a 1D vector. This is necessary before feeding the data into the fully connected (dense) layers.\n",
        "\n",
        "6. **Dense(128, activation='relu')**\n",
        "   - **Dense**: This is a fully connected (dense) layer.\n",
        "   - **128**: The number of neurons in this dense layer.\n",
        "   - **activation='relu'**: The activation function applied to this layer.\n",
        "\n",
        "7. **Dropout(0.5)**\n",
        "   - **Dropout**: This layer is used to prevent overfitting by randomly setting 50% (0.5) of the input units to 0 at each update during training.\n",
        "\n",
        "8. **Dense(10, activation='softmax')**\n",
        "   - **Dense**: Another fully connected (dense) layer.\n",
        "   - **10**: The number of neurons in this layer, corresponding to the 10 classes in the MNIST dataset (digits 0-9).\n",
        "   - **activation='softmax'**: The activation function applied to this layer. Softmax converts the logits into probabilities, summing to 1, which is useful for multi-class classification.\n",
        "\n",
        "### Model Compilation\n",
        "\n",
        "```python\n",
        "model.compile(optimizer='adam', loss='categorical_crossentropy', metrics=['accuracy'])\n",
        "```\n",
        "\n",
        "1. **optimizer='adam'**\n",
        "   - **Adam**: The optimizer used to update the network's weights during training. Adam (Adaptive Moment Estimation) is an efficient and popular optimization algorithm.\n",
        "\n",
        "2. **loss='categorical_crossentropy'**\n",
        "   - **Categorical Crossentropy**: The loss function used for multi-class classification problems. It measures the difference between the true labels and the predicted labels.\n",
        "\n",
        "3. **metrics=['accuracy']**\n",
        "   - **Accuracy**: The metric used to evaluate the model's performance. Accuracy measures the proportion of correctly classified instances.\n",
        "\n",
        "### Summary\n",
        "\n",
        "- **Conv2D** layers extract features from the input images using convolutional filters.\n",
        "- **MaxPooling2D** layers reduce the spatial dimensions, retaining the most important features.\n",
        "- **Flatten** layer converts the 2D matrix to a 1D vector for the dense layers.\n",
        "- **Dense** layers perform classification based on the extracted features.\n",
        "- **Dropout** layer helps prevent overfitting.\n",
        "- **Softmax** activation function in the final dense layer converts logits to probabilities for multi-class classification.\n",
        "\n",
        "This CNN model is designed to classify handwritten digits from the MNIST dataset, using a series of convolutional and pooling layers to extract features, followed by dense layers to perform the classification."
      ],
      "metadata": {
        "id": "h1jbzXotmkDr"
      }
    },
    {
      "cell_type": "code",
      "source": [
        "#Train the model using the training data.\n",
        "# Train the model\n",
        "history = model.fit(X_train, y_train, validation_data=(X_test, y_test), epochs=10, batch_size=128)\n"
      ],
      "metadata": {
        "colab": {
          "base_uri": "https://localhost:8080/"
        },
        "id": "5t7VipVFkZhU",
        "outputId": "17c59691-890d-4717-8985-6a16be405528"
      },
      "execution_count": 10,
      "outputs": [
        {
          "output_type": "stream",
          "name": "stdout",
          "text": [
            "Epoch 1/10\n",
            "469/469 [==============================] - 50s 103ms/step - loss: 0.2946 - accuracy: 0.9099 - val_loss: 0.0573 - val_accuracy: 0.9824\n",
            "Epoch 2/10\n",
            "469/469 [==============================] - 47s 101ms/step - loss: 0.0935 - accuracy: 0.9720 - val_loss: 0.0438 - val_accuracy: 0.9845\n",
            "Epoch 3/10\n",
            "469/469 [==============================] - 46s 98ms/step - loss: 0.0705 - accuracy: 0.9791 - val_loss: 0.0361 - val_accuracy: 0.9887\n",
            "Epoch 4/10\n",
            "469/469 [==============================] - 46s 99ms/step - loss: 0.0577 - accuracy: 0.9828 - val_loss: 0.0271 - val_accuracy: 0.9910\n",
            "Epoch 5/10\n",
            "469/469 [==============================] - 50s 106ms/step - loss: 0.0488 - accuracy: 0.9851 - val_loss: 0.0302 - val_accuracy: 0.9911\n",
            "Epoch 6/10\n",
            "469/469 [==============================] - 47s 100ms/step - loss: 0.0419 - accuracy: 0.9876 - val_loss: 0.0246 - val_accuracy: 0.9923\n",
            "Epoch 7/10\n",
            "469/469 [==============================] - 47s 99ms/step - loss: 0.0365 - accuracy: 0.9889 - val_loss: 0.0231 - val_accuracy: 0.9916\n",
            "Epoch 8/10\n",
            "469/469 [==============================] - 48s 102ms/step - loss: 0.0330 - accuracy: 0.9900 - val_loss: 0.0246 - val_accuracy: 0.9924\n",
            "Epoch 9/10\n",
            "469/469 [==============================] - 49s 105ms/step - loss: 0.0304 - accuracy: 0.9905 - val_loss: 0.0283 - val_accuracy: 0.9909\n",
            "Epoch 10/10\n",
            "469/469 [==============================] - 47s 100ms/step - loss: 0.0272 - accuracy: 0.9915 - val_loss: 0.0262 - val_accuracy: 0.9922\n"
          ]
        }
      ]
    },
    {
      "cell_type": "code",
      "source": [
        "# Evaluate the model\n",
        "test_loss, test_accuracy = model.evaluate(X_test, y_test)\n",
        "print(f'Test accuracy: {test_accuracy:.4f}')"
      ],
      "metadata": {
        "id": "lSzU9pcJkfGs",
        "colab": {
          "base_uri": "https://localhost:8080/"
        },
        "outputId": "7f7c27a2-c9b9-42fc-a70f-18308e65cede"
      },
      "execution_count": 11,
      "outputs": [
        {
          "output_type": "stream",
          "name": "stdout",
          "text": [
            "313/313 [==============================] - 3s 9ms/step - loss: 0.0262 - accuracy: 0.9922\n",
            "Test accuracy: 0.9922\n"
          ]
        }
      ]
    },
    {
      "cell_type": "code",
      "source": [
        "import matplotlib.pyplot as plt\n",
        "\n",
        "\n",
        "# Plot training & validation accuracy values\n",
        "plt.figure(figsize=(12, 4))\n",
        "plt.subplot(1, 2, 1)\n",
        "plt.plot(history.history['accuracy'])\n",
        "plt.plot(history.history['val_accuracy'])\n",
        "plt.title('Model accuracy')\n",
        "plt.xlabel('Epoch')\n",
        "plt.ylabel('Accuracy')\n",
        "plt.legend(['Train', 'Test'], loc='upper left')"
      ],
      "metadata": {
        "colab": {
          "base_uri": "https://localhost:8080/",
          "height": 427
        },
        "id": "sbhwfQuOnFfF",
        "outputId": "2a3b4359-f8ae-4adb-f532-735727b427c9"
      },
      "execution_count": 13,
      "outputs": [
        {
          "output_type": "execute_result",
          "data": {
            "text/plain": [
              "<matplotlib.legend.Legend at 0x7c4e2b72fe20>"
            ]
          },
          "metadata": {},
          "execution_count": 13
        },
        {
          "output_type": "display_data",
          "data": {
            "text/plain": [
              "<Figure size 1200x400 with 1 Axes>"
            ],
            "image/png": "[encoded data removed]"
          },
          "metadata": {}
        }
      ]
    },
    {
      "cell_type": "code",
      "source": [
        "# Plot training & validation loss values\n",
        "plt.subplot(1, 2, 2)\n",
        "plt.plot(history.history['loss'])\n",
        "plt.plot(history.history['val_loss'])\n",
        "plt.title('Model loss')\n",
        "plt.xlabel('Epoch')\n",
        "plt.ylabel('Loss')\n",
        "plt.legend(['Train', 'Test'], loc='upper left')\n",
        "plt.show()"
      ],
      "metadata": {
        "colab": {
          "base_uri": "https://localhost:8080/",
          "height": 472
        },
        "id": "6GNTPkr0nJA7",
        "outputId": "e0364cd2-82fc-47d8-cc41-b83dba86bba0"
      },
      "execution_count": 14,
      "outputs": [
        {
          "output_type": "display_data",
          "data": {
            "text/plain": [
              "<Figure size 640x480 with 1 Axes>"
            ],
            "image/png": "[encoded data removed]"
          },
          "metadata": {}
        }
      ]
    },
    {
      "cell_type": "code",
      "source": [
        "model.save('mnist_cnn_model1.h5')"
      ],
      "metadata": {
        "colab": {
          "base_uri": "https://localhost:8080/"
        },
        "id": "QhuGQIHGouUd",
        "outputId": "bf3ec591-d450-45dd-9356-d2e51687e6ec"
      },
      "execution_count": 18,
      "outputs": [
        {
          "output_type": "stream",
          "name": "stderr",
          "text": [
            "/usr/local/lib/python3.10/dist-packages/keras/src/engine/training.py:3103: UserWarning: You are saving your model as an HDF5 file via `model.save()`. This file format is considered legacy. We recommend using instead the native Keras format, e.g. `model.save('my_model.keras')`.\n",
            "  saving_api.save_model(\n"
          ]
        }
      ]
    },
    {
      "cell_type": "markdown",
      "source": [
        "**Test with new image**"
      ],
      "metadata": {
        "id": "FGYoM7eEpsPJ"
      }
    },
    {
      "cell_type": "code",
      "source": [
        "import numpy as np\n",
        "import matplotlib.pyplot as plt\n",
        "from tensorflow.keras.preprocessing import image\n",
        "\n",
        "# Load your trained model (assuming you have saved it)\n",
        "model = tf.keras.models.load_model('/content/mnist_cnn_model1.h5')\n",
        "\n",
        "def load_and_preprocess_image(img_path):\n",
        "    # Load the image\n",
        "    img = image.load_img(img_path, target_size=(28, 28), color_mode=\"grayscale\")\n",
        "    # Convert the image to array\n",
        "    img_array = image.img_to_array(img)\n",
        "    # Reshape the image to include the channel dimension\n",
        "    img_array = img_array.reshape((1, 28, 28, 1))\n",
        "    # Normalize the image\n",
        "    img_array = img_array.astype('float32') / 255\n",
        "    return img_array\n",
        "\n",
        "def predict_image(model, img_array):\n",
        "    # Make a prediction\n",
        "    predictions = model.predict(img_array)\n",
        "    # Get the class with the highest probability\n",
        "    predicted_class = np.argmax(predictions, axis=1)\n",
        "    return predicted_class[0], predictions\n",
        "\n",
        "# Path to your image\n",
        "img_path = '/content/test.png'\n",
        "\n",
        "# Load and preprocess the image\n",
        "img_array = load_and_preprocess_image(img_path)\n",
        "\n",
        "# Predict the class of the image\n",
        "predicted_class, predictions = predict_image(model, img_array)\n",
        "\n",
        "# Display the image and the prediction\n",
        "plt.imshow(img_array.reshape(28, 28), cmap='gray')\n",
        "plt.title(f'Predicted Class: {predicted_class}')\n",
        "plt.show()\n",
        "\n",
        "# Print the predictions array\n",
        "print(f'Predictions: {predictions}')"
      ],
      "metadata": {
        "colab": {
          "base_uri": "https://localhost:8080/",
          "height": 504
        },
        "id": "5XgDEbIpprvX",
        "outputId": "ab6acd91-56b4-4804-955d-dd106e86c1e8"
      },
      "execution_count": 20,
      "outputs": [
        {
          "output_type": "stream",
          "name": "stdout",
          "text": [
            "1/1 [==============================] - 0s 126ms/step\n"
          ]
        },
        {
          "output_type": "display_data",
          "data": {
            "text/plain": [
              "<Figure size 640x480 with 1 Axes>"
            ],
            "image/png": "[encoded data removed]"
          },
          "metadata": {}
        },
        {
          "output_type": "stream",
          "name": "stdout",
          "text": [
            "Predictions: [[1.0080172e-03 1.1420430e-04 4.4174085e-06 9.4516288e-09 7.2842668e-05\n",
            "  3.0213675e-06 7.9737511e-08 9.9879396e-01 3.1626384e-06 1.8459853e-07]]\n"
          ]
        }
      ]
    },
    {
      "cell_type": "markdown",
      "source": [
        "**Experiment with different architectures**"
      ],
      "metadata": {
        "id": "8GHB3XjNneP5"
      }
    },
    {
      "cell_type": "code",
      "source": [
        "\n",
        "model2 = Sequential([\n",
        "    Conv2D(32, kernel_size=(3, 3), activation='relu', input_shape=(28, 28, 1)),\n",
        "    MaxPooling2D(pool_size=(2, 2)),\n",
        "    Conv2D(64, kernel_size=(3, 3), activation='relu'),\n",
        "    MaxPooling2D(pool_size=(2, 2)),\n",
        "    Conv2D(128, kernel_size=(3, 3), activation='relu'),\n",
        "    MaxPooling2D(pool_size=(2, 2)),\n",
        "    Flatten(),\n",
        "    Dense(256, activation='relu'),\n",
        "    Dropout(0.5),\n",
        "    Dense(10, activation='softmax')\n",
        "])\n",
        "\n",
        "model2.compile(optimizer='adam', loss='categorical_crossentropy', metrics=['accuracy'])\n",
        "model2.summary()"
      ],
      "metadata": {
        "colab": {
          "base_uri": "https://localhost:8080/"
        },
        "id": "G9Yp3IZ1nR2t",
        "outputId": "2a654620-67b6-4d9c-fe91-3544c6fd22af"
      },
      "execution_count": 16,
      "outputs": [
        {
          "output_type": "stream",
          "name": "stdout",
          "text": [
            "Model: \"sequential_2\"\n",
            "_________________________________________________________________\n",
            " Layer (type)                Output Shape              Param #   \n",
            "=================================================================\n",
            " conv2d_5 (Conv2D)           (None, 26, 26, 32)        320       \n",
            "                                                                 \n",
            " max_pooling2d_5 (MaxPoolin  (None, 13, 13, 32)        0         \n",
            " g2D)                                                            \n",
            "                                                                 \n",
            " conv2d_6 (Conv2D)           (None, 11, 11, 64)        18496     \n",
            "                                                                 \n",
            " max_pooling2d_6 (MaxPoolin  (None, 5, 5, 64)          0         \n",
            " g2D)                                                            \n",
            "                                                                 \n",
            " conv2d_7 (Conv2D)           (None, 3, 3, 128)         73856     \n",
            "                                                                 \n",
            " max_pooling2d_7 (MaxPoolin  (None, 1, 1, 128)         0         \n",
            " g2D)                                                            \n",
            "                                                                 \n",
            " flatten_2 (Flatten)         (None, 128)               0         \n",
            "                                                                 \n",
            " dense_4 (Dense)             (None, 256)               33024     \n",
            "                                                                 \n",
            " dropout_2 (Dropout)         (None, 256)               0         \n",
            "                                                                 \n",
            " dense_5 (Dense)             (None, 10)                2570      \n",
            "                                                                 \n",
            "=================================================================\n",
            "Total params: 128266 (501.04 KB)\n",
            "Trainable params: 128266 (501.04 KB)\n",
            "Non-trainable params: 0 (0.00 Byte)\n",
            "_________________________________________________________________\n"
          ]
        }
      ]
    },
    {
      "cell_type": "code",
      "source": [
        "# Train and evaluate the modified model\n",
        "history2 = model2.fit(X_train, y_train, validation_data=(X_test, y_test), epochs=10, batch_size=128)\n",
        "test_loss2, test_accuracy2 = model2.evaluate(X_test, y_test)"
      ],
      "metadata": {
        "colab": {
          "base_uri": "https://localhost:8080/"
        },
        "id": "xUshrtVRnWuJ",
        "outputId": "ccf0fe7f-8ee8-424b-921a-3cde48ec5faf"
      },
      "execution_count": 17,
      "outputs": [
        {
          "output_type": "stream",
          "name": "stdout",
          "text": [
            "Epoch 1/10\n",
            "469/469 [==============================] - 61s 125ms/step - loss: 0.3692 - accuracy: 0.8839 - val_loss: 0.0956 - val_accuracy: 0.9709\n",
            "Epoch 2/10\n",
            "469/469 [==============================] - 55s 117ms/step - loss: 0.1033 - accuracy: 0.9689 - val_loss: 0.0646 - val_accuracy: 0.9806\n",
            "Epoch 3/10\n",
            "469/469 [==============================] - 57s 121ms/step - loss: 0.0742 - accuracy: 0.9778 - val_loss: 0.0593 - val_accuracy: 0.9823\n",
            "Epoch 4/10\n",
            "469/469 [==============================] - 60s 128ms/step - loss: 0.0578 - accuracy: 0.9824 - val_loss: 0.0483 - val_accuracy: 0.9845\n",
            "Epoch 5/10\n",
            "469/469 [==============================] - 55s 117ms/step - loss: 0.0506 - accuracy: 0.9850 - val_loss: 0.0529 - val_accuracy: 0.9841\n",
            "Epoch 6/10\n",
            "469/469 [==============================] - 58s 124ms/step - loss: 0.0423 - accuracy: 0.9871 - val_loss: 0.0439 - val_accuracy: 0.9871\n",
            "Epoch 7/10\n",
            "469/469 [==============================] - 55s 116ms/step - loss: 0.0362 - accuracy: 0.9888 - val_loss: 0.0432 - val_accuracy: 0.9884\n",
            "Epoch 8/10\n",
            "469/469 [==============================] - 54s 116ms/step - loss: 0.0334 - accuracy: 0.9899 - val_loss: 0.0373 - val_accuracy: 0.9897\n",
            "Epoch 9/10\n",
            "469/469 [==============================] - 54s 114ms/step - loss: 0.0279 - accuracy: 0.9914 - val_loss: 0.0474 - val_accuracy: 0.9871\n",
            "Epoch 10/10\n",
            "469/469 [==============================] - 66s 140ms/step - loss: 0.0245 - accuracy: 0.9926 - val_loss: 0.0454 - val_accuracy: 0.9886\n",
            "313/313 [==============================] - 6s 18ms/step - loss: 0.0454 - accuracy: 0.9886\n"
          ]
        }
      ]
    },
    {
      "cell_type": "code",
      "source": [
        "print(f'Test accuracy of modified model: {test_accuracy2:.4f}')"
      ],
      "metadata": {
        "colab": {
          "base_uri": "https://localhost:8080/"
        },
        "id": "We_GYWBcnm3P",
        "outputId": "9366bd0d-b59e-40cb-d1cb-841a49d8cef7"
      },
      "execution_count": 22,
      "outputs": [
        {
          "output_type": "stream",
          "name": "stdout",
          "text": [
            "Test accuracy of modified model: 0.9886\n"
          ]
        }
      ]
    },
    {
      "cell_type": "code",
      "source": [
        "model.save('mnist_cnn_model2.h5')"
      ],
      "metadata": {
        "id": "G99u9k9gqw1s"
      },
      "execution_count": 23,
      "outputs": []
    },
    {
      "cell_type": "code",
      "source": [
        "import numpy as np\n",
        "import matplotlib.pyplot as plt\n",
        "from tensorflow.keras.preprocessing import image\n",
        "\n",
        "# Load your trained model (assuming you have saved it)\n",
        "model = tf.keras.models.load_model('/content/mnist_cnn_model2.h5')\n",
        "\n",
        "def load_and_preprocess_image(img_path):\n",
        "    # Load the image\n",
        "    img = image.load_img(img_path, target_size=(28, 28), color_mode=\"grayscale\")\n",
        "    # Convert the image to array\n",
        "    img_array = image.img_to_array(img)\n",
        "    # Reshape the image to include the channel dimension\n",
        "    img_array = img_array.reshape((1, 28, 28, 1))\n",
        "    # Normalize the image\n",
        "    img_array = img_array.astype('float32') / 255\n",
        "    return img_array\n",
        "\n",
        "def predict_image(model, img_array):\n",
        "    # Make a prediction\n",
        "    predictions = model.predict(img_array)\n",
        "    # Get the class with the highest probability\n",
        "    predicted_class = np.argmax(predictions, axis=1)\n",
        "    return predicted_class[0], predictions\n",
        "\n",
        "# Path to your image\n",
        "img_path = '/content/test.png'\n",
        "\n",
        "# Load and preprocess the image\n",
        "img_array = load_and_preprocess_image(img_path)\n",
        "\n",
        "# Predict the class of the image\n",
        "predicted_class, predictions = predict_image(model, img_array)\n",
        "\n",
        "# Display the image and the prediction\n",
        "plt.imshow(img_array.reshape(28, 28), cmap='gray')\n",
        "plt.title(f'Predicted Class: {predicted_class}')\n",
        "plt.show()\n",
        "\n",
        "# Print the predictions array\n",
        "print(f'Predictions: {predictions}')"
      ],
      "metadata": {
        "colab": {
          "base_uri": "https://localhost:8080/",
          "height": 504
        },
        "id": "3b0kpNW7q5pS",
        "outputId": "341fe59e-7083-42ab-f1ac-0e8c65447943"
      },
      "execution_count": 24,
      "outputs": [
        {
          "output_type": "stream",
          "name": "stdout",
          "text": [
            "1/1 [==============================] - 0s 146ms/step\n"
          ]
        },
        {
          "output_type": "display_data",
          "data": {
            "text/plain": [
              "<Figure size 640x480 with 1 Axes>"
            ],
            "image/png": "[encoded data removed]"
          },
          "metadata": {}
        },
        {
          "output_type": "stream",
          "name": "stdout",
          "text": [
            "Predictions: [[1.0080172e-03 1.1420430e-04 4.4174085e-06 9.4516288e-09 7.2842668e-05\n",
            "  3.0213675e-06 7.9737511e-08 9.9879396e-01 3.1626384e-06 1.8459853e-07]]\n"
          ]
        }
      ]
    },
    {
      "cell_type": "code",
      "source": [],
      "metadata": {
        "id": "jEeH8Cc3rCR-"
      },
      "execution_count": null,
      "outputs": []
    }
  ]
}